{
 "cells": [
  {
   "cell_type": "code",
   "execution_count": 1,
   "metadata": {},
   "outputs": [],
   "source": [
    "import re\n",
    "import equalspeak as es"
   ]
  },
  {
   "cell_type": "code",
   "execution_count": 2,
   "metadata": {},
   "outputs": [
    {
     "name": "stdout",
     "output_type": "stream",
     "text": [
      "A LaTeX parser for\n",
      "SimpleTest.tex\n",
      "\tamsmath : Not supported\n",
      "\tamssymb : Not supported\n",
      "\tamsthm : Not supported\n",
      "\tfontenc : Not supported\n",
      "\tgeometry : Not supported\n"
     ]
    }
   ],
   "source": [
    "f = es.read_tex(\"SimpleTest.tex\")\n",
    "print(f)"
   ]
  },
  {
   "cell_type": "code",
   "execution_count": 3,
   "metadata": {},
   "outputs": [
    {
     "name": "stdout",
     "output_type": "stream",
     "text": [
      "{'math': [('3^2 + 4^2 = 5^{2}', '\\\\$[^$]', (161, 178)), ('x + y = z', '\\\\\\\\\\\\(', (188, 197)), ('Z = \\\\frac{x+1}{2}', '\\\\\\\\\\\\[', (130, 160))], 'envi': [('equation', '\\\\\\\\begin{', (48, 56)), ('equation*', '\\\\\\\\begin{', (100, 109)), ('equation', '\\\\\\\\begin{', (130, 138))]}\n",
      "3^2 + 4^2 = 5^{2}\n",
      "x + y = z\n",
      "Z = \\frac{x+1}{2}\n"
     ]
    }
   ],
   "source": [
    "d = f.convert()\n",
    "print(d)\n",
    "for t in d['math']:\n",
    "    print(t[0])"
   ]
  },
  {
   "cell_type": "code",
   "execution_count": null,
   "metadata": {},
   "outputs": [],
   "source": []
  }
 ],
 "metadata": {
  "kernelspec": {
   "display_name": "Python 3",
   "language": "python",
   "name": "python3"
  },
  "language_info": {
   "codemirror_mode": {
    "name": "ipython",
    "version": 3
   },
   "file_extension": ".py",
   "mimetype": "text/x-python",
   "name": "python",
   "nbconvert_exporter": "python",
   "pygments_lexer": "ipython3",
   "version": "3.12.0"
  }
 },
 "nbformat": 4,
 "nbformat_minor": 2
}
