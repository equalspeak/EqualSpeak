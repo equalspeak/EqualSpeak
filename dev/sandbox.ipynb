{
 "cells": [
  {
   "cell_type": "code",
   "execution_count": 1,
   "metadata": {},
   "outputs": [],
   "source": [
    "import re\n",
    "import equalspeak as es"
   ]
  },
  {
   "cell_type": "code",
   "execution_count": 2,
   "metadata": {},
   "outputs": [
    {
     "name": "stdout",
     "output_type": "stream",
     "text": [
      "A LaTeX parser for\n",
      "SimpleTest.tex\n",
      "\tamsmath : Not supported\n",
      "\tamssymb : Not supported\n",
      "\tamsthm : Not supported\n",
      "\tfontenc : Not supported\n",
      "\tgeometry : Not supported\n"
     ]
    }
   ],
   "source": [
    "f = es.read_tex(\"SimpleTest.tex\")\n",
    "print(f)"
   ]
  },
  {
   "cell_type": "code",
   "execution_count": 3,
   "metadata": {},
   "outputs": [
    {
     "name": "stdout",
     "output_type": "stream",
     "text": [
      "document (15, 34)\n",
      "[('3^2 + 4^2 = 5^{2}', 'inline math', (161, 178)), ('x^2 + xy = z', 'inline math', (188, 200)), ('\\n       x_i^2 + y^2 = (z^2 + 1)\\n    ', 'equation', (239, 275)), ('\\n        \\\\mymat{ 1 & 2 \\\\\\\\ 3 & 4 }\\n     ', 'equation*', (312, 351)), ('\\n    x_i^2 + y^2 = (z^2 + 1)\\n ', 'equation', (384, 414)), ('\\n       Z = \\\\frac{x+1}{2}\\n    ', 'displayed math', (448, 478))]\n",
      "displayed math (448, 478)\n",
      "[]\n",
      "equation (384, 414)\n",
      "[]\n",
      "equation* (312, 351)\n",
      "[]\n",
      "equation (239, 275)\n",
      "[]\n",
      "inline math (188, 200)\n",
      "[]\n",
      "inline math (161, 178)\n",
      "[]\n"
     ]
    },
    {
     "data": {
      "text/plain": [
       "Speak tree:\n",
       "document (15, 34)\n",
       "\tinline math (161, 178)\n",
       "\tinline math (188, 200)\n",
       "\tequation (239, 275)\n",
       "\tequation* (312, 351)\n",
       "\tequation (384, 414)\n",
       "\tdisplayed math (448, 478)"
      ]
     },
     "execution_count": 3,
     "metadata": {},
     "output_type": "execute_result"
    }
   ],
   "source": [
    "d = f.get_tree()\n",
    "d"
   ]
  }
 ],
 "metadata": {
  "kernelspec": {
   "display_name": "Python 3",
   "language": "python",
   "name": "python3"
  },
  "language_info": {
   "codemirror_mode": {
    "name": "ipython",
    "version": 3
   },
   "file_extension": ".py",
   "mimetype": "text/x-python",
   "name": "python",
   "nbconvert_exporter": "python",
   "pygments_lexer": "ipython3",
   "version": "3.12.0"
  }
 },
 "nbformat": 4,
 "nbformat_minor": 2
}
